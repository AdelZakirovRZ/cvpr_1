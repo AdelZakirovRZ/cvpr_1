{
 "cells": [
  {
   "cell_type": "code",
   "execution_count": 1,
   "id": "6d5d550d",
   "metadata": {},
   "outputs": [],
   "source": [
    "from src.model.system import System\n",
    "from src.data.datamodule import MyDatamodule\n",
    "import torch\n",
    "from tqdm.notebook import tqdm\n",
    "import numpy as np"
   ]
  },
  {
   "cell_type": "code",
   "execution_count": 29,
   "id": "6936118c",
   "metadata": {},
   "outputs": [],
   "source": [
    "system = System.load_from_checkpoint('/mnt/IMAGING/HUB/MODELS/CHECKPOINTS/cvppa/cvppa/baseline_4/cp_epoch=80_val_loss=1.000_val_acc=0.654.ckpt')\n",
    "system.freeze()\n",
    "hparams = system.hparams\n",
    "dm = MyDatamodule(**hparams)\n",
    "dm.setup('fit')\n",
    "ds = dm.val_dataset"
   ]
  },
  {
   "cell_type": "code",
   "execution_count": 17,
   "id": "0f927ea1",
   "metadata": {},
   "outputs": [],
   "source": [
    "def get_emb(system, img):\n",
    "    with torch.no_grad():\n",
    "        feature = system.model.forward_features(img.unsqueeze(0).cuda())\n",
    "        emb = system.model.head.global_pool(feature)\n",
    "    return emb\n",
    "\n",
    "def get_embs_from_ds(system, ds):\n",
    "    embs = []\n",
    "    for i in tqdm(range(len(ds))):\n",
    "        embs.append(get_emb(system, ds[i][0]).cpu().numpy())\n",
    "    return np.concatenate(embs)"
   ]
  },
  {
   "cell_type": "code",
   "execution_count": 4,
   "id": "422c0560",
   "metadata": {},
   "outputs": [
    {
     "data": {
      "application/vnd.jupyter.widget-view+json": {
       "model_id": "f1005972e66c46e6af6cc208d684ed4c",
       "version_major": 2,
       "version_minor": 0
      },
      "text/plain": [
       "  0%|          | 0/267 [00:00<?, ?it/s]"
      ]
     },
     "metadata": {},
     "output_type": "display_data"
    },
    {
     "data": {
      "application/vnd.jupyter.widget-view+json": {
       "model_id": "e210f365f59f4fa1a5cdad91c856c674",
       "version_major": 2,
       "version_minor": 0
      },
      "text/plain": [
       "  0%|          | 0/267 [00:00<?, ?it/s]"
      ]
     },
     "metadata": {},
     "output_type": "display_data"
    },
    {
     "data": {
      "application/vnd.jupyter.widget-view+json": {
       "model_id": "2f5ad8a6b5cf4e0599fb28ad2ea9d200",
       "version_major": 2,
       "version_minor": 0
      },
      "text/plain": [
       "  0%|          | 0/266 [00:00<?, ?it/s]"
      ]
     },
     "metadata": {},
     "output_type": "display_data"
    },
    {
     "data": {
      "application/vnd.jupyter.widget-view+json": {
       "model_id": "25ca13ca5af34751a0c14138b39ca883",
       "version_major": 2,
       "version_minor": 0
      },
      "text/plain": [
       "  0%|          | 0/266 [00:00<?, ?it/s]"
      ]
     },
     "metadata": {},
     "output_type": "display_data"
    },
    {
     "data": {
      "application/vnd.jupyter.widget-view+json": {
       "model_id": "0cc1c60b41cf41f3af13bd7e83ba0869",
       "version_major": 2,
       "version_minor": 0
      },
      "text/plain": [
       "  0%|          | 0/266 [00:00<?, ?it/s]"
      ]
     },
     "metadata": {},
     "output_type": "display_data"
    }
   ],
   "source": [
    "checkpoints = [\n",
    "    '/mnt/IMAGING/HUB/MODELS/CHECKPOINTS/cvppa/cvppa/wr_baseline_0/cp_epoch=45_val_loss=0.760_val_acc=0.721.ckpt',\n",
    "    '/mnt/IMAGING/HUB/MODELS/CHECKPOINTS/cvppa/cvppa/wr_baseline_1/cp_epoch=108_val_loss=0.613_val_acc=0.812.ckpt',\n",
    "    '/mnt/IMAGING/HUB/MODELS/CHECKPOINTS/cvppa/cvppa/wr_baseline_2/cp_epoch=65_val_loss=0.605_val_acc=0.756.ckpt',\n",
    "    '/mnt/IMAGING/HUB/MODELS/CHECKPOINTS/cvppa/cvppa/wr_baseline_3/cp_epoch=64_val_loss=0.541_val_acc=0.802.ckpt',\n",
    "    '/mnt/IMAGING/HUB/MODELS/CHECKPOINTS/cvppa/cvppa/wr_baseline_4/cp_epoch=51_val_loss=0.666_val_acc=0.758.ckpt'\n",
    "]\n",
    "embs = []\n",
    "for cp in checkpoints:\n",
    "    system = System.load_from_checkpoint(cp)\n",
    "    system.freeze()\n",
    "    hparams = system.hparams\n",
    "    dm = MyDatamodule(**hparams)\n",
    "    dm.setup('fit')\n",
    "    ds = dm.val_dataset\n",
    "    embs.append(get_embs_from_ds(system, ds))"
   ]
  },
  {
   "cell_type": "code",
   "execution_count": 5,
   "id": "bbccc395",
   "metadata": {},
   "outputs": [],
   "source": [
    "embs = np.concatenate(embs)"
   ]
  },
  {
   "cell_type": "code",
   "execution_count": 6,
   "id": "a9271662",
   "metadata": {},
   "outputs": [],
   "source": [
    "np.save('dataset/WR2021/embs.npy',embs)"
   ]
  },
  {
   "cell_type": "code",
   "execution_count": 63,
   "id": "b70c15cd",
   "metadata": {},
   "outputs": [
    {
     "data": {
      "text/plain": [
       "tensor([0.1270, 0.0720, 0.2451, 0.1583, 0.0067, 0.0195, 0.3715],\n",
       "       device='cuda:0')"
      ]
     },
     "execution_count": 63,
     "metadata": {},
     "output_type": "execute_result"
    }
   ],
   "source": [
    "torch.nn.functional.softmax(system(img.unsqueeze(0).cuda())[0], dim=0)"
   ]
  },
  {
   "cell_type": "code",
   "execution_count": 2,
   "id": "b830455c",
   "metadata": {},
   "outputs": [],
   "source": [
    "import timm"
   ]
  },
  {
   "cell_type": "code",
   "execution_count": 3,
   "id": "d16f05c1",
   "metadata": {},
   "outputs": [],
   "source": [
    "model = timm.create_model('seresnext101_64x4d', pretrained=True)"
   ]
  },
  {
   "cell_type": "code",
   "execution_count": 4,
   "id": "e2fca56d",
   "metadata": {},
   "outputs": [],
   "source": [
    "model.eval()\n",
    "dm = MyDatamodule(\n",
    "    images_path='/home/AZA/PycharmProjects/competitions/cvppa2023/dataset/WR2021/images/', \n",
    "    labels_path='/home/AZA/PycharmProjects/competitions/cvppa2023/dataset/WR2021/labels.csv', \n",
    "    fold=0, \n",
    "    size=(224,224), \n",
    "    augmentation_p=False, \n",
    "    train_batch_size=4,\n",
    "    val_batch_size=8, \n",
    "    num_workers=8)\n",
    "dm.setup('fit')\n",
    "ds = dm.val_dataset + dm.train_dataset"
   ]
  },
  {
   "cell_type": "code",
   "execution_count": 5,
   "id": "47fe6367",
   "metadata": {},
   "outputs": [
    {
     "data": {
      "application/vnd.jupyter.widget-view+json": {
       "model_id": "3f0f4cef3d7946ff950c5f53f564d031",
       "version_major": 2,
       "version_minor": 0
      },
      "text/plain": [
       "  0%|          | 0/1332 [00:00<?, ?it/s]"
      ]
     },
     "metadata": {},
     "output_type": "display_data"
    }
   ],
   "source": [
    "embs = []\n",
    "with torch.no_grad():\n",
    "    for i in tqdm(range(len(ds))):\n",
    "        img = ds[i][0].unsqueeze(0)\n",
    "        features = model.forward_features(img)\n",
    "        emb = model.global_pool(features)\n",
    "        embs.append(emb.cpu().numpy())"
   ]
  },
  {
   "cell_type": "code",
   "execution_count": 6,
   "id": "8a85a053",
   "metadata": {},
   "outputs": [],
   "source": [
    "embs = np.concatenate(embs)"
   ]
  },
  {
   "cell_type": "code",
   "execution_count": 8,
   "id": "5f3257b4",
   "metadata": {},
   "outputs": [],
   "source": [
    "np.save('dataset/WR2021/baseline/embs_se101.npy',embs)"
   ]
  },
  {
   "cell_type": "code",
   "execution_count": 9,
   "id": "662e160a",
   "metadata": {},
   "outputs": [],
   "source": [
    "names = ds.datasets[0].labels['names'].tolist() + ds.datasets[1].labels['names'].tolist()"
   ]
  },
  {
   "cell_type": "code",
   "execution_count": 10,
   "id": "211c8067",
   "metadata": {},
   "outputs": [],
   "source": [
    "np.save('dataset/WR2021/baseline/names_se101.npy', names)"
   ]
  },
  {
   "cell_type": "code",
   "execution_count": 10,
   "id": "8209d01b",
   "metadata": {},
   "outputs": [
    {
     "data": {
      "application/vnd.jupyter.widget-view+json": {
       "model_id": "1986a72eb37d4ac6b333d5e3e7f4258c",
       "version_major": 2,
       "version_minor": 0
      },
      "text/plain": [
       "  0%|          | 0/267 [00:00<?, ?it/s]"
      ]
     },
     "metadata": {},
     "output_type": "display_data"
    },
    {
     "data": {
      "application/vnd.jupyter.widget-view+json": {
       "model_id": "53d3a09825ba4d2ea18a115b3dce6ae4",
       "version_major": 2,
       "version_minor": 0
      },
      "text/plain": [
       "  0%|          | 0/267 [00:00<?, ?it/s]"
      ]
     },
     "metadata": {},
     "output_type": "display_data"
    },
    {
     "data": {
      "application/vnd.jupyter.widget-view+json": {
       "model_id": "466a9ea40eda4d5fa15669139ed2a9bc",
       "version_major": 2,
       "version_minor": 0
      },
      "text/plain": [
       "  0%|          | 0/266 [00:00<?, ?it/s]"
      ]
     },
     "metadata": {},
     "output_type": "display_data"
    },
    {
     "data": {
      "application/vnd.jupyter.widget-view+json": {
       "model_id": "36124dc7ef714085892bfd52dcb44038",
       "version_major": 2,
       "version_minor": 0
      },
      "text/plain": [
       "  0%|          | 0/266 [00:00<?, ?it/s]"
      ]
     },
     "metadata": {},
     "output_type": "display_data"
    },
    {
     "data": {
      "application/vnd.jupyter.widget-view+json": {
       "model_id": "6cc39bbe46a94e0ab03722844ebd479d",
       "version_major": 2,
       "version_minor": 0
      },
      "text/plain": [
       "  0%|          | 0/266 [00:00<?, ?it/s]"
      ]
     },
     "metadata": {},
     "output_type": "display_data"
    }
   ],
   "source": [
    "checkpoints = [\n",
    "    '/mnt/IMAGING/HUB/MODELS/CHECKPOINTS/cvppa/cvppa/baseline_0/cp_epoch=65_val_loss=0.856_val_acc=0.668.ckpt',\n",
    "    '/mnt/IMAGING/HUB/MODELS/CHECKPOINTS/cvppa/cvppa/baseline_1/cp_epoch=58_val_loss=0.984_val_acc=0.646.ckpt',\n",
    "    '/mnt/IMAGING/HUB/MODELS/CHECKPOINTS/cvppa/cvppa/baseline_2/cp_epoch=50_val_loss=1.180_val_acc=0.620.ckpt',\n",
    "    '/mnt/IMAGING/HUB/MODELS/CHECKPOINTS/cvppa/cvppa/baseline_3/cp_epoch=42_val_loss=0.910_val_acc=0.614.ckpt',\n",
    "    '/mnt/IMAGING/HUB/MODELS/CHECKPOINTS/cvppa/cvppa/baseline_4/cp_epoch=80_val_loss=1.000_val_acc=0.654.ckpt'\n",
    "]\n",
    "probs = []\n",
    "labels = []\n",
    "names = []\n",
    "for cp in checkpoints:\n",
    "    system = System.load_from_checkpoint(cp)\n",
    "    system.freeze()\n",
    "    hparams = system.hparams\n",
    "    dm = MyDatamodule(**hparams)\n",
    "    dm.setup('fit')\n",
    "    ds = dm.val_dataset\n",
    "    names.extend(ds.labels['names'].tolist())\n",
    "    with torch.no_grad():\n",
    "        for i in tqdm(range(len(ds))):\n",
    "            img, label = ds[i]\n",
    "            pred = system(img.unsqueeze(0).cuda())\n",
    "            labels.append(label)\n",
    "            probs.append(torch.nn.functional.softmax(system(img.unsqueeze(0).cuda())[0], dim=0).cpu().numpy())"
   ]
  },
  {
   "cell_type": "code",
   "execution_count": 11,
   "id": "a57a882c",
   "metadata": {},
   "outputs": [],
   "source": [
    "probs = np.stack(probs)"
   ]
  },
  {
   "cell_type": "code",
   "execution_count": 12,
   "id": "952493af",
   "metadata": {},
   "outputs": [],
   "source": [
    "np.save('dataset/WR2021/probs.npy', probs)"
   ]
  },
  {
   "cell_type": "code",
   "execution_count": 13,
   "id": "3d71701a",
   "metadata": {},
   "outputs": [],
   "source": [
    "np.save('dataset/WR2021/labels.npy', labels)"
   ]
  },
  {
   "cell_type": "code",
   "execution_count": 14,
   "id": "c775fcfc",
   "metadata": {},
   "outputs": [],
   "source": [
    "np.save('dataset/WR2021/names.npy', names)"
   ]
  },
  {
   "cell_type": "code",
   "execution_count": null,
   "id": "e73c360a",
   "metadata": {},
   "outputs": [],
   "source": []
  }
 ],
 "metadata": {
  "kernelspec": {
   "display_name": "cvppa",
   "language": "python",
   "name": "cvppa"
  },
  "language_info": {
   "codemirror_mode": {
    "name": "ipython",
    "version": 3
   },
   "file_extension": ".py",
   "mimetype": "text/x-python",
   "name": "python",
   "nbconvert_exporter": "python",
   "pygments_lexer": "ipython3",
   "version": "3.8.16"
  }
 },
 "nbformat": 4,
 "nbformat_minor": 5
}
