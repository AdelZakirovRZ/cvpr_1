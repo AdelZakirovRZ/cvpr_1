{
 "cells": [
  {
   "cell_type": "code",
   "execution_count": 1,
   "id": "c165b684",
   "metadata": {},
   "outputs": [],
   "source": [
    "from sklearn.cluster import KMeans\n",
    "import numpy as np\n",
    "import pandas as pd\n",
    "import shutil"
   ]
  },
  {
   "cell_type": "code",
   "execution_count": 9,
   "id": "fdefc7bb",
   "metadata": {},
   "outputs": [],
   "source": [
    "embs = np.load('dataset/WW2020/baseline/embs_se101.npy')\n",
    "names = np.load('dataset/WW2020/baseline/names_se101.npy')"
   ]
  },
  {
   "cell_type": "code",
   "execution_count": 3,
   "id": "69b6cd5e",
   "metadata": {},
   "outputs": [],
   "source": [
    "kmeans = KMeans(n_clusters=20, random_state=0, n_init=100).fit(embs)"
   ]
  },
  {
   "cell_type": "code",
   "execution_count": 4,
   "id": "1e7e6ec8",
   "metadata": {
    "scrolled": true
   },
   "outputs": [
    {
     "data": {
      "text/plain": [
       "array([ 56,  46,  66,  64,  56, 115, 153,  38,  26,  96,  70,  54,  22,\n",
       "        70,  37, 120,  45,  77,  60,  61])"
      ]
     },
     "execution_count": 4,
     "metadata": {},
     "output_type": "execute_result"
    }
   ],
   "source": [
    "np.bincount(kmeans.labels_)"
   ]
  },
  {
   "cell_type": "code",
   "execution_count": 11,
   "id": "3d870153",
   "metadata": {},
   "outputs": [],
   "source": [
    "df = pd.DataFrame()\n",
    "df['names'] = names\n",
    "df['clusters'] = kmeans.labels_"
   ]
  },
  {
   "cell_type": "code",
   "execution_count": 12,
   "id": "47a115eb",
   "metadata": {},
   "outputs": [
    {
     "data": {
      "text/html": [
       "<div>\n",
       "<style scoped>\n",
       "    .dataframe tbody tr th:only-of-type {\n",
       "        vertical-align: middle;\n",
       "    }\n",
       "\n",
       "    .dataframe tbody tr th {\n",
       "        vertical-align: top;\n",
       "    }\n",
       "\n",
       "    .dataframe thead th {\n",
       "        text-align: right;\n",
       "    }\n",
       "</style>\n",
       "<table border=\"1\" class=\"dataframe\">\n",
       "  <thead>\n",
       "    <tr style=\"text-align: right;\">\n",
       "      <th></th>\n",
       "      <th>names</th>\n",
       "      <th>clusters</th>\n",
       "    </tr>\n",
       "  </thead>\n",
       "  <tbody>\n",
       "    <tr>\n",
       "      <th>0</th>\n",
       "      <td>20200506_8.jpg</td>\n",
       "      <td>6</td>\n",
       "    </tr>\n",
       "    <tr>\n",
       "      <th>1</th>\n",
       "      <td>20200325_14.jpg</td>\n",
       "      <td>15</td>\n",
       "    </tr>\n",
       "    <tr>\n",
       "      <th>2</th>\n",
       "      <td>20200506_22.jpg</td>\n",
       "      <td>16</td>\n",
       "    </tr>\n",
       "    <tr>\n",
       "      <th>3</th>\n",
       "      <td>20200422_30.jpg</td>\n",
       "      <td>7</td>\n",
       "    </tr>\n",
       "    <tr>\n",
       "      <th>4</th>\n",
       "      <td>20200422_36.jpg</td>\n",
       "      <td>9</td>\n",
       "    </tr>\n",
       "    <tr>\n",
       "      <th>...</th>\n",
       "      <td>...</td>\n",
       "      <td>...</td>\n",
       "    </tr>\n",
       "    <tr>\n",
       "      <th>1327</th>\n",
       "      <td>20200506_1790.jpg</td>\n",
       "      <td>6</td>\n",
       "    </tr>\n",
       "    <tr>\n",
       "      <th>1328</th>\n",
       "      <td>20200325_1793.jpg</td>\n",
       "      <td>19</td>\n",
       "    </tr>\n",
       "    <tr>\n",
       "      <th>1329</th>\n",
       "      <td>20200422_1795.jpg</td>\n",
       "      <td>17</td>\n",
       "    </tr>\n",
       "    <tr>\n",
       "      <th>1330</th>\n",
       "      <td>20200325_1796.jpg</td>\n",
       "      <td>18</td>\n",
       "    </tr>\n",
       "    <tr>\n",
       "      <th>1331</th>\n",
       "      <td>20200325_1799.jpg</td>\n",
       "      <td>15</td>\n",
       "    </tr>\n",
       "  </tbody>\n",
       "</table>\n",
       "<p>1332 rows × 2 columns</p>\n",
       "</div>"
      ],
      "text/plain": [
       "                  names  clusters\n",
       "0        20200506_8.jpg         6\n",
       "1       20200325_14.jpg        15\n",
       "2       20200506_22.jpg        16\n",
       "3       20200422_30.jpg         7\n",
       "4       20200422_36.jpg         9\n",
       "...                 ...       ...\n",
       "1327  20200506_1790.jpg         6\n",
       "1328  20200325_1793.jpg        19\n",
       "1329  20200422_1795.jpg        17\n",
       "1330  20200325_1796.jpg        18\n",
       "1331  20200325_1799.jpg        15\n",
       "\n",
       "[1332 rows x 2 columns]"
      ]
     },
     "execution_count": 12,
     "metadata": {},
     "output_type": "execute_result"
    }
   ],
   "source": [
    "df"
   ]
  },
  {
   "cell_type": "code",
   "execution_count": 13,
   "id": "2c75eb39",
   "metadata": {},
   "outputs": [],
   "source": [
    "df0 = df[df['clusters'] == 0]"
   ]
  },
  {
   "cell_type": "code",
   "execution_count": 14,
   "id": "c935e64b",
   "metadata": {},
   "outputs": [],
   "source": [
    "img_path = '/home/AZA/PycharmProjects/competitions/cvppa2023/dataset/WW2020/images/'\n",
    "save_path = '/home/AZA/PycharmProjects/competitions/cvppa2023/dataset/WW2020/clusters/'\n",
    "for name in df0['names'].tolist():\n",
    "    shutil.copy(img_path + name, save_path + name)"
   ]
  },
  {
   "cell_type": "code",
   "execution_count": 15,
   "id": "87a71bef",
   "metadata": {},
   "outputs": [],
   "source": [
    "import os"
   ]
  },
  {
   "cell_type": "code",
   "execution_count": 19,
   "id": "5cd42e3a",
   "metadata": {},
   "outputs": [],
   "source": [
    "for i in range(len(df['clusters'].unique())):\n",
    "    os.makedirs(save_path + str(i), exist_ok=True)\n",
    "    df0 = df[df['clusters'] == i]\n",
    "    for name in df0['names'].tolist():\n",
    "        shutil.copy(img_path + name, os.path.join(save_path, str(i), name))"
   ]
  },
  {
   "cell_type": "code",
   "execution_count": 20,
   "id": "f7b1e4d1",
   "metadata": {},
   "outputs": [],
   "source": [
    "df.to_csv('dataset/WW2020/cluster_se101.csv', index=False)"
   ]
  },
  {
   "cell_type": "code",
   "execution_count": null,
   "id": "781f1449",
   "metadata": {},
   "outputs": [],
   "source": []
  }
 ],
 "metadata": {
  "kernelspec": {
   "display_name": "cvppa",
   "language": "python",
   "name": "cvppa"
  },
  "language_info": {
   "codemirror_mode": {
    "name": "ipython",
    "version": 3
   },
   "file_extension": ".py",
   "mimetype": "text/x-python",
   "name": "python",
   "nbconvert_exporter": "python",
   "pygments_lexer": "ipython3",
   "version": "3.8.16"
  }
 },
 "nbformat": 4,
 "nbformat_minor": 5
}
